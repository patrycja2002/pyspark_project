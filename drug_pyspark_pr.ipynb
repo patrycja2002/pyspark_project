{
 "cells": [
  {
   "cell_type": "markdown",
   "id": "8801027f",
   "metadata": {},
   "source": [
    "## Import library"
   ]
  },
  {
   "cell_type": "code",
   "execution_count": 1,
   "id": "2d78f91c",
   "metadata": {},
   "outputs": [],
   "source": [
    "import pyspark\n",
    "from datetime import datetime\n",
    "from pyspark.sql import functions as F\n",
    "from pyspark.sql import SparkSession\n",
    "from pyspark.sql.functions import *\n",
    "import pandas as pd"
   ]
  },
  {
   "cell_type": "markdown",
   "id": "e210e5ed",
   "metadata": {},
   "source": [
    "## Create spark"
   ]
  },
  {
   "cell_type": "code",
   "execution_count": 3,
   "id": "f9e06089",
   "metadata": {},
   "outputs": [],
   "source": [
    "spark = SparkSession \\\n",
    "    .builder \\\n",
    "    .appName(\"PySpark\") \\\n",
    "    .getOrCreate()"
   ]
  },
  {
   "cell_type": "markdown",
   "id": "acd463ea",
   "metadata": {},
   "source": [
    "## Import csv"
   ]
  },
  {
   "cell_type": "code",
   "execution_count": 4,
   "id": "bf1c680a",
   "metadata": {},
   "outputs": [],
   "source": [
    "df_date = spark.read.csv('drug_date.csv',  header=True)\n",
    "df_product = spark.read.csv('drug_product.csv',  header=True)\n",
    "df_client = spark.read.csv('drug_client.csv',  header=True)"
   ]
  },
  {
   "cell_type": "markdown",
   "id": "8a615dc5",
   "metadata": {},
   "source": [
    "## Add column"
   ]
  },
  {
   "cell_type": "code",
   "execution_count": 5,
   "id": "e2cef9e7",
   "metadata": {},
   "outputs": [],
   "source": [
    "df_date = df_date.withColumn('Date_difference',\n",
    "      datediff(\"expiration_date\", \"transaction_date\"))"
   ]
  },
  {
   "cell_type": "markdown",
   "id": "16fd5643",
   "metadata": {},
   "source": [
    "## Cleansing and filtering date"
   ]
  },
  {
   "cell_type": "code",
   "execution_count": 6,
   "id": "0c7288ed",
   "metadata": {},
   "outputs": [],
   "source": [
    "df_date = df_date.where(F.col('Date_difference')>0)"
   ]
  },
  {
   "cell_type": "code",
   "execution_count": 7,
   "id": "c5420f02",
   "metadata": {},
   "outputs": [],
   "source": [
    "df_client = df_client.where(F.col('transaction_completed') == 'true')"
   ]
  },
  {
   "cell_type": "markdown",
   "id": "d80d9c4c",
   "metadata": {},
   "source": [
    "## Rename columns"
   ]
  },
  {
   "cell_type": "code",
   "execution_count": 8,
   "id": "9d62e270",
   "metadata": {},
   "outputs": [],
   "source": [
    "list_new_cols = [\n",
    "    'Product_number',\n",
    "    'Expiration_date',\n",
    "    'Created_date',\n",
    "    'Transaction_date'\n",
    "]\n",
    "for old_col, new_col in zip(df_date.columns, list_new_cols):\n",
    "    df_date = df_date.withColumnRenamed(old_col, new_col)"
   ]
  },
  {
   "cell_type": "code",
   "execution_count": 9,
   "id": "d96fe945",
   "metadata": {},
   "outputs": [],
   "source": [
    "list_new_cols = [\n",
    "    'Product_number',\n",
    "    'First_name',\n",
    "    'Last_name',\n",
    "    'Email',\n",
    "    'Gender',\n",
    "    'Country',\n",
    "    'City',\n",
    "    'Card_type',\n",
    "    'Quantity',\n",
    "    'Transaction_completed'\n",
    "]\n",
    "for old_col, new_col in zip(df_client.columns, list_new_cols):\n",
    "    df_client = df_client.withColumnRenamed(old_col, new_col)"
   ]
  },
  {
   "cell_type": "code",
   "execution_count": 10,
   "id": "bb2ee855",
   "metadata": {},
   "outputs": [],
   "source": [
    "list_new_cols = [\n",
    "    'Product_number',\n",
    "    'Company',\n",
    "    'Brand',\n",
    "    'Name',\n",
    "    'Price'\n",
    "]\n",
    "for old_col, new_col in zip(df_product.columns, list_new_cols):\n",
    "    df_product = df_product.withColumnRenamed(old_col, new_col)"
   ]
  },
  {
   "cell_type": "markdown",
   "id": "bb9d608c",
   "metadata": {},
   "source": [
    "## Concatenate columns"
   ]
  },
  {
   "cell_type": "code",
   "execution_count": 11,
   "id": "2d4e66c6",
   "metadata": {},
   "outputs": [],
   "source": [
    "df_client = df_client.withColumn('Full_name', F.concat_ws(' ', df_client.First_name, df_client.Last_name))"
   ]
  },
  {
   "cell_type": "markdown",
   "id": "cb33302e",
   "metadata": {},
   "source": [
    "## Join tables"
   ]
  },
  {
   "cell_type": "code",
   "execution_count": 12,
   "id": "bb95c2f9",
   "metadata": {},
   "outputs": [],
   "source": [
    "data_frame = df_product.join(df_client, on='Product_number', how='inner')\\\n",
    "                       .join(df_date, on='Product_number', how='inner')"
   ]
  },
  {
   "cell_type": "markdown",
   "id": "156281ea",
   "metadata": {},
   "source": [
    "## Add column"
   ]
  },
  {
   "cell_type": "code",
   "execution_count": 13,
   "id": "8c9a9e89",
   "metadata": {},
   "outputs": [],
   "source": [
    "data_frame = data_frame.withColumn('Price_', F.col('Price')*F.col('Quantity'))"
   ]
  },
  {
   "cell_type": "code",
   "execution_count": 14,
   "id": "12e4eeff",
   "metadata": {},
   "outputs": [],
   "source": [
    "data_frame = data_frame.withColumn(\"Date\", F.concat_ws('-', year( \"Transaction_date\"), month( \"Transaction_date\")))"
   ]
  },
  {
   "cell_type": "markdown",
   "id": "0a15a8e5",
   "metadata": {},
   "source": [
    "## Delete columns"
   ]
  },
  {
   "cell_type": "code",
   "execution_count": 15,
   "id": "db8b4e29",
   "metadata": {},
   "outputs": [],
   "source": [
    "colf_to_drop = ['First_name', 'Last_name', 'Price']\n",
    "data_frame = data_frame.drop(*colf_to_drop)"
   ]
  },
  {
   "cell_type": "markdown",
   "id": "920356aa",
   "metadata": {},
   "source": [
    "## Groupby operation"
   ]
  },
  {
   "cell_type": "code",
   "execution_count": 16,
   "id": "826cf752",
   "metadata": {},
   "outputs": [],
   "source": [
    "columns = [\n",
    "    'Date',\n",
    "    'Company',\n",
    "]\n",
    "data_frame = data_frame.groupby(columns).sum('Price_').orderBy('Date')"
   ]
  },
  {
   "cell_type": "code",
   "execution_count": 17,
   "id": "ab9a966f",
   "metadata": {},
   "outputs": [],
   "source": [
    "data_frame = data_frame.withColumnRenamed('sum(Price_)', 'Price')"
   ]
  },
  {
   "cell_type": "markdown",
   "id": "46287e7a",
   "metadata": {},
   "source": [
    "## Convert PySpark DataFrame to Pandas"
   ]
  },
  {
   "cell_type": "code",
   "execution_count": 18,
   "id": "fc3e0fe8",
   "metadata": {},
   "outputs": [],
   "source": [
    "data_frame = data_frame.toPandas()"
   ]
  },
  {
   "cell_type": "code",
   "execution_count": 19,
   "id": "c70db96c",
   "metadata": {
    "scrolled": true
   },
   "outputs": [
    {
     "data": {
      "text/html": [
       "<div>\n",
       "<style scoped>\n",
       "    .dataframe tbody tr th:only-of-type {\n",
       "        vertical-align: middle;\n",
       "    }\n",
       "\n",
       "    .dataframe tbody tr th {\n",
       "        vertical-align: top;\n",
       "    }\n",
       "\n",
       "    .dataframe thead th {\n",
       "        text-align: right;\n",
       "    }\n",
       "</style>\n",
       "<table border=\"1\" class=\"dataframe\">\n",
       "  <thead>\n",
       "    <tr style=\"text-align: right;\">\n",
       "      <th></th>\n",
       "      <th>Date</th>\n",
       "      <th>Company</th>\n",
       "      <th>Price</th>\n",
       "    </tr>\n",
       "  </thead>\n",
       "  <tbody>\n",
       "    <tr>\n",
       "      <th>0</th>\n",
       "      <td>2021-10</td>\n",
       "      <td>Colgate-Palmolive Company</td>\n",
       "      <td>44.88</td>\n",
       "    </tr>\n",
       "    <tr>\n",
       "      <th>1</th>\n",
       "      <td>2021-10</td>\n",
       "      <td>Coltene Whaledent Inc</td>\n",
       "      <td>24.15</td>\n",
       "    </tr>\n",
       "    <tr>\n",
       "      <th>2</th>\n",
       "      <td>2021-10</td>\n",
       "      <td>The Kroger Co.</td>\n",
       "      <td>503.90</td>\n",
       "    </tr>\n",
       "    <tr>\n",
       "      <th>3</th>\n",
       "      <td>2021-10</td>\n",
       "      <td>Major Pharmaceuticals</td>\n",
       "      <td>123.88</td>\n",
       "    </tr>\n",
       "    <tr>\n",
       "      <th>4</th>\n",
       "      <td>2021-10</td>\n",
       "      <td>7-11</td>\n",
       "      <td>183.44</td>\n",
       "    </tr>\n",
       "    <tr>\n",
       "      <th>5</th>\n",
       "      <td>2021-10</td>\n",
       "      <td>Neutrogena Corporation</td>\n",
       "      <td>97.45</td>\n",
       "    </tr>\n",
       "    <tr>\n",
       "      <th>6</th>\n",
       "      <td>2021-10</td>\n",
       "      <td>Apotheca Company</td>\n",
       "      <td>416.75</td>\n",
       "    </tr>\n",
       "    <tr>\n",
       "      <th>7</th>\n",
       "      <td>2021-10</td>\n",
       "      <td>DIRECT RX</td>\n",
       "      <td>361.88</td>\n",
       "    </tr>\n",
       "    <tr>\n",
       "      <th>8</th>\n",
       "      <td>2021-10</td>\n",
       "      <td>Allergan, Inc.</td>\n",
       "      <td>52.40</td>\n",
       "    </tr>\n",
       "    <tr>\n",
       "      <th>9</th>\n",
       "      <td>2021-10</td>\n",
       "      <td>Bristol-Myers Squibb Pharma Company</td>\n",
       "      <td>237.46</td>\n",
       "    </tr>\n",
       "  </tbody>\n",
       "</table>\n",
       "</div>"
      ],
      "text/plain": [
       "      Date                              Company   Price\n",
       "0  2021-10            Colgate-Palmolive Company   44.88\n",
       "1  2021-10                Coltene Whaledent Inc   24.15\n",
       "2  2021-10                       The Kroger Co.  503.90\n",
       "3  2021-10                Major Pharmaceuticals  123.88\n",
       "4  2021-10                                 7-11  183.44\n",
       "5  2021-10               Neutrogena Corporation   97.45\n",
       "6  2021-10                     Apotheca Company  416.75\n",
       "7  2021-10                            DIRECT RX  361.88\n",
       "8  2021-10                       Allergan, Inc.   52.40\n",
       "9  2021-10  Bristol-Myers Squibb Pharma Company  237.46"
      ]
     },
     "execution_count": 19,
     "metadata": {},
     "output_type": "execute_result"
    }
   ],
   "source": [
    "data_frame.head(10)"
   ]
  },
  {
   "cell_type": "markdown",
   "id": "1cc9f8aa",
   "metadata": {},
   "source": [
    "##  Write csv  "
   ]
  },
  {
   "cell_type": "code",
   "execution_count": 20,
   "id": "2e5f92aa",
   "metadata": {},
   "outputs": [],
   "source": [
    "data_frame.to_csv('drug_pyspark.csv')"
   ]
  }
 ],
 "metadata": {
  "kernelspec": {
   "display_name": "Python 3 (ipykernel)",
   "language": "python",
   "name": "python3"
  },
  "language_info": {
   "codemirror_mode": {
    "name": "ipython",
    "version": 3
   },
   "file_extension": ".py",
   "mimetype": "text/x-python",
   "name": "python",
   "nbconvert_exporter": "python",
   "pygments_lexer": "ipython3",
   "version": "3.8.10"
  }
 },
 "nbformat": 4,
 "nbformat_minor": 5
}
